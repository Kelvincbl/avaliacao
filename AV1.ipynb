{
  "nbformat": 4,
  "nbformat_minor": 0,
  "metadata": {
    "colab": {
      "provenance": []
    },
    "kernelspec": {
      "name": "python3",
      "display_name": "Python 3"
    },
    "language_info": {
      "name": "python"
    }
  },
  "cells": [
    {
      "cell_type": "code",
      "execution_count": null,
      "metadata": {
        "id": "1PZdBX0vSShB"
      },
      "outputs": [],
      "source": [
        "import pandas as pd\n",
        "from sklearn.model_selection import train_test_split\n",
        "from sklearn.neighbors import KNeighborsClassifier\n",
        "from sklearn.preprocessing import StandardScaler, FunctionTransformer\n",
        "from sklearn.pipeline import Pipeline"
      ]
    },
    {
      "cell_type": "code",
      "source": [
        "df = pd.read_csv(\"waterQuality1.csv\")"
      ],
      "metadata": {
        "id": "sJqKsrLnSZ9X"
      },
      "execution_count": null,
      "outputs": []
    },
    {
      "cell_type": "code",
      "source": [
        "df.info()"
      ],
      "metadata": {
        "colab": {
          "base_uri": "https://localhost:8080/"
        },
        "id": "eYncHU3HTH2d",
        "outputId": "2b19e427-7299-497d-aa37-211f9c3da6a8"
      },
      "execution_count": null,
      "outputs": [
        {
          "output_type": "stream",
          "name": "stdout",
          "text": [
            "<class 'pandas.core.frame.DataFrame'>\n",
            "RangeIndex: 7999 entries, 0 to 7998\n",
            "Data columns (total 21 columns):\n",
            " #   Column       Non-Null Count  Dtype  \n",
            "---  ------       --------------  -----  \n",
            " 0   aluminium    7999 non-null   float64\n",
            " 1   ammonia      7999 non-null   object \n",
            " 2   arsenic      7999 non-null   float64\n",
            " 3   barium       7999 non-null   float64\n",
            " 4   cadmium      7999 non-null   float64\n",
            " 5   chloramine   7999 non-null   float64\n",
            " 6   chromium     7999 non-null   float64\n",
            " 7   copper       7999 non-null   float64\n",
            " 8   flouride     7999 non-null   float64\n",
            " 9   bacteria     7999 non-null   float64\n",
            " 10  viruses      7999 non-null   float64\n",
            " 11  lead         7999 non-null   float64\n",
            " 12  nitrates     7999 non-null   float64\n",
            " 13  nitrites     7999 non-null   float64\n",
            " 14  mercury      7999 non-null   float64\n",
            " 15  perchlorate  7999 non-null   float64\n",
            " 16  radium       7999 non-null   float64\n",
            " 17  selenium     7999 non-null   float64\n",
            " 18  silver       7999 non-null   float64\n",
            " 19  uranium      7999 non-null   float64\n",
            " 20  is_safe      7999 non-null   object \n",
            "dtypes: float64(19), object(2)\n",
            "memory usage: 1.3+ MB\n"
          ]
        }
      ]
    },
    {
      "cell_type": "code",
      "source": [
        "# Verificando células vazias ou NaN\n",
        "print(df.isna().sum())\n",
        "\n",
        "# Excluindo células vazias ou NaN\n",
        "df = df.dropna()\n",
        "\n",
        "# Criando um novo dataframe\n",
        "data = df.copy()\n"
      ],
      "metadata": {
        "colab": {
          "base_uri": "https://localhost:8080/"
        },
        "id": "3o5DK0hqTgGP",
        "outputId": "e3c61537-bf53-498a-920e-3cc55a4621ca"
      },
      "execution_count": null,
      "outputs": [
        {
          "output_type": "stream",
          "name": "stdout",
          "text": [
            "aluminium      0\n",
            "ammonia        0\n",
            "arsenic        0\n",
            "barium         0\n",
            "cadmium        0\n",
            "chloramine     0\n",
            "chromium       0\n",
            "copper         0\n",
            "flouride       0\n",
            "bacteria       0\n",
            "viruses        0\n",
            "lead           0\n",
            "nitrates       0\n",
            "nitrites       0\n",
            "mercury        0\n",
            "perchlorate    0\n",
            "radium         0\n",
            "selenium       0\n",
            "silver         0\n",
            "uranium        0\n",
            "is_safe        0\n",
            "dtype: int64\n"
          ]
        }
      ]
    },
    {
      "cell_type": "code",
      "source": [
        "# Excluindo as colunas desnecessárias\n",
        "data = data.drop([\"ammonia\" ,\"aluminium\", \"arsenic\", \"barium\", \"cadmium\", \"chloramine\", \"chromium\", \"copper\", \"flouride\", \"lead\", \"mercury\", \"radium\", \"selenium\", \"silver\", \"uranium\"], axis=1)\n",
        "data.dropna()\n"
      ],
      "metadata": {
        "colab": {
          "base_uri": "https://localhost:8080/",
          "height": 423
        },
        "id": "X5Oe0hs-TscG",
        "outputId": "bdee0ee3-1900-4669-8ff5-7161fd9f8ec9"
      },
      "execution_count": null,
      "outputs": [
        {
          "output_type": "execute_result",
          "data": {
            "text/plain": [
              "      bacteria  viruses  nitrates  nitrites  perchlorate is_safe\n",
              "0         0.20    0.000     16.08      1.13        37.75       1\n",
              "1         0.65    0.650      2.01      1.93        32.26       1\n",
              "2         0.05    0.003     14.16      1.11        50.28       0\n",
              "3         0.71    0.710      1.41      1.29         9.12       1\n",
              "4         0.13    0.001      6.74      1.11        16.90       1\n",
              "...        ...      ...       ...       ...          ...     ...\n",
              "7994      0.00    0.000     14.29      1.00         3.57       1\n",
              "7995      0.00    0.000     10.27      1.00         1.48       1\n",
              "7996      0.00    0.000     15.92      1.00         1.35       1\n",
              "7997      0.00    0.000      0.00      0.00         0.00       1\n",
              "7998      0.00    0.000     15.92      1.00         1.35       1\n",
              "\n",
              "[7999 rows x 6 columns]"
            ],
            "text/html": [
              "\n",
              "  <div id=\"df-2b95516d-014f-4f45-baa9-6b106ac21328\">\n",
              "    <div class=\"colab-df-container\">\n",
              "      <div>\n",
              "<style scoped>\n",
              "    .dataframe tbody tr th:only-of-type {\n",
              "        vertical-align: middle;\n",
              "    }\n",
              "\n",
              "    .dataframe tbody tr th {\n",
              "        vertical-align: top;\n",
              "    }\n",
              "\n",
              "    .dataframe thead th {\n",
              "        text-align: right;\n",
              "    }\n",
              "</style>\n",
              "<table border=\"1\" class=\"dataframe\">\n",
              "  <thead>\n",
              "    <tr style=\"text-align: right;\">\n",
              "      <th></th>\n",
              "      <th>bacteria</th>\n",
              "      <th>viruses</th>\n",
              "      <th>nitrates</th>\n",
              "      <th>nitrites</th>\n",
              "      <th>perchlorate</th>\n",
              "      <th>is_safe</th>\n",
              "    </tr>\n",
              "  </thead>\n",
              "  <tbody>\n",
              "    <tr>\n",
              "      <th>0</th>\n",
              "      <td>0.20</td>\n",
              "      <td>0.000</td>\n",
              "      <td>16.08</td>\n",
              "      <td>1.13</td>\n",
              "      <td>37.75</td>\n",
              "      <td>1</td>\n",
              "    </tr>\n",
              "    <tr>\n",
              "      <th>1</th>\n",
              "      <td>0.65</td>\n",
              "      <td>0.650</td>\n",
              "      <td>2.01</td>\n",
              "      <td>1.93</td>\n",
              "      <td>32.26</td>\n",
              "      <td>1</td>\n",
              "    </tr>\n",
              "    <tr>\n",
              "      <th>2</th>\n",
              "      <td>0.05</td>\n",
              "      <td>0.003</td>\n",
              "      <td>14.16</td>\n",
              "      <td>1.11</td>\n",
              "      <td>50.28</td>\n",
              "      <td>0</td>\n",
              "    </tr>\n",
              "    <tr>\n",
              "      <th>3</th>\n",
              "      <td>0.71</td>\n",
              "      <td>0.710</td>\n",
              "      <td>1.41</td>\n",
              "      <td>1.29</td>\n",
              "      <td>9.12</td>\n",
              "      <td>1</td>\n",
              "    </tr>\n",
              "    <tr>\n",
              "      <th>4</th>\n",
              "      <td>0.13</td>\n",
              "      <td>0.001</td>\n",
              "      <td>6.74</td>\n",
              "      <td>1.11</td>\n",
              "      <td>16.90</td>\n",
              "      <td>1</td>\n",
              "    </tr>\n",
              "    <tr>\n",
              "      <th>...</th>\n",
              "      <td>...</td>\n",
              "      <td>...</td>\n",
              "      <td>...</td>\n",
              "      <td>...</td>\n",
              "      <td>...</td>\n",
              "      <td>...</td>\n",
              "    </tr>\n",
              "    <tr>\n",
              "      <th>7994</th>\n",
              "      <td>0.00</td>\n",
              "      <td>0.000</td>\n",
              "      <td>14.29</td>\n",
              "      <td>1.00</td>\n",
              "      <td>3.57</td>\n",
              "      <td>1</td>\n",
              "    </tr>\n",
              "    <tr>\n",
              "      <th>7995</th>\n",
              "      <td>0.00</td>\n",
              "      <td>0.000</td>\n",
              "      <td>10.27</td>\n",
              "      <td>1.00</td>\n",
              "      <td>1.48</td>\n",
              "      <td>1</td>\n",
              "    </tr>\n",
              "    <tr>\n",
              "      <th>7996</th>\n",
              "      <td>0.00</td>\n",
              "      <td>0.000</td>\n",
              "      <td>15.92</td>\n",
              "      <td>1.00</td>\n",
              "      <td>1.35</td>\n",
              "      <td>1</td>\n",
              "    </tr>\n",
              "    <tr>\n",
              "      <th>7997</th>\n",
              "      <td>0.00</td>\n",
              "      <td>0.000</td>\n",
              "      <td>0.00</td>\n",
              "      <td>0.00</td>\n",
              "      <td>0.00</td>\n",
              "      <td>1</td>\n",
              "    </tr>\n",
              "    <tr>\n",
              "      <th>7998</th>\n",
              "      <td>0.00</td>\n",
              "      <td>0.000</td>\n",
              "      <td>15.92</td>\n",
              "      <td>1.00</td>\n",
              "      <td>1.35</td>\n",
              "      <td>1</td>\n",
              "    </tr>\n",
              "  </tbody>\n",
              "</table>\n",
              "<p>7999 rows × 6 columns</p>\n",
              "</div>\n",
              "      <button class=\"colab-df-convert\" onclick=\"convertToInteractive('df-2b95516d-014f-4f45-baa9-6b106ac21328')\"\n",
              "              title=\"Convert this dataframe to an interactive table.\"\n",
              "              style=\"display:none;\">\n",
              "        \n",
              "  <svg xmlns=\"http://www.w3.org/2000/svg\" height=\"24px\"viewBox=\"0 0 24 24\"\n",
              "       width=\"24px\">\n",
              "    <path d=\"M0 0h24v24H0V0z\" fill=\"none\"/>\n",
              "    <path d=\"M18.56 5.44l.94 2.06.94-2.06 2.06-.94-2.06-.94-.94-2.06-.94 2.06-2.06.94zm-11 1L8.5 8.5l.94-2.06 2.06-.94-2.06-.94L8.5 2.5l-.94 2.06-2.06.94zm10 10l.94 2.06.94-2.06 2.06-.94-2.06-.94-.94-2.06-.94 2.06-2.06.94z\"/><path d=\"M17.41 7.96l-1.37-1.37c-.4-.4-.92-.59-1.43-.59-.52 0-1.04.2-1.43.59L10.3 9.45l-7.72 7.72c-.78.78-.78 2.05 0 2.83L4 21.41c.39.39.9.59 1.41.59.51 0 1.02-.2 1.41-.59l7.78-7.78 2.81-2.81c.8-.78.8-2.07 0-2.86zM5.41 20L4 18.59l7.72-7.72 1.47 1.35L5.41 20z\"/>\n",
              "  </svg>\n",
              "      </button>\n",
              "      \n",
              "  <style>\n",
              "    .colab-df-container {\n",
              "      display:flex;\n",
              "      flex-wrap:wrap;\n",
              "      gap: 12px;\n",
              "    }\n",
              "\n",
              "    .colab-df-convert {\n",
              "      background-color: #E8F0FE;\n",
              "      border: none;\n",
              "      border-radius: 50%;\n",
              "      cursor: pointer;\n",
              "      display: none;\n",
              "      fill: #1967D2;\n",
              "      height: 32px;\n",
              "      padding: 0 0 0 0;\n",
              "      width: 32px;\n",
              "    }\n",
              "\n",
              "    .colab-df-convert:hover {\n",
              "      background-color: #E2EBFA;\n",
              "      box-shadow: 0px 1px 2px rgba(60, 64, 67, 0.3), 0px 1px 3px 1px rgba(60, 64, 67, 0.15);\n",
              "      fill: #174EA6;\n",
              "    }\n",
              "\n",
              "    [theme=dark] .colab-df-convert {\n",
              "      background-color: #3B4455;\n",
              "      fill: #D2E3FC;\n",
              "    }\n",
              "\n",
              "    [theme=dark] .colab-df-convert:hover {\n",
              "      background-color: #434B5C;\n",
              "      box-shadow: 0px 1px 3px 1px rgba(0, 0, 0, 0.15);\n",
              "      filter: drop-shadow(0px 1px 2px rgba(0, 0, 0, 0.3));\n",
              "      fill: #FFFFFF;\n",
              "    }\n",
              "  </style>\n",
              "\n",
              "      <script>\n",
              "        const buttonEl =\n",
              "          document.querySelector('#df-2b95516d-014f-4f45-baa9-6b106ac21328 button.colab-df-convert');\n",
              "        buttonEl.style.display =\n",
              "          google.colab.kernel.accessAllowed ? 'block' : 'none';\n",
              "\n",
              "        async function convertToInteractive(key) {\n",
              "          const element = document.querySelector('#df-2b95516d-014f-4f45-baa9-6b106ac21328');\n",
              "          const dataTable =\n",
              "            await google.colab.kernel.invokeFunction('convertToInteractive',\n",
              "                                                     [key], {});\n",
              "          if (!dataTable) return;\n",
              "\n",
              "          const docLinkHtml = 'Like what you see? Visit the ' +\n",
              "            '<a target=\"_blank\" href=https://colab.research.google.com/notebooks/data_table.ipynb>data table notebook</a>'\n",
              "            + ' to learn more about interactive tables.';\n",
              "          element.innerHTML = '';\n",
              "          dataTable['output_type'] = 'display_data';\n",
              "          await google.colab.output.renderOutput(dataTable, element);\n",
              "          const docLink = document.createElement('div');\n",
              "          docLink.innerHTML = docLinkHtml;\n",
              "          element.appendChild(docLink);\n",
              "        }\n",
              "      </script>\n",
              "    </div>\n",
              "  </div>\n",
              "  "
            ]
          },
          "metadata": {},
          "execution_count": 28
        }
      ]
    },
    {
      "cell_type": "code",
      "source": [
        "# Mostrando a distribuição de classes\n",
        "\n",
        "print(data['bacteria'].value_counts())\n",
        "print(data['viruses'].value_counts())\n",
        "print(data['nitrates'].value_counts())\n",
        "print(data['nitrites'].value_counts())\n",
        "print(data['perchlorate'].value_counts())\n"
      ],
      "metadata": {
        "colab": {
          "base_uri": "https://localhost:8080/"
        },
        "id": "jSs0OhnsURQI",
        "outputId": "5ba60b5c-0520-47c2-abf8-eb4bf2db3901"
      },
      "execution_count": null,
      "outputs": [
        {
          "output_type": "stream",
          "name": "stdout",
          "text": [
            "0.00    2795\n",
            "0.13      84\n",
            "0.75      84\n",
            "0.89      83\n",
            "0.74      80\n",
            "        ... \n",
            "0.90      26\n",
            "0.12      25\n",
            "0.47      21\n",
            "0.81      21\n",
            "0.88      21\n",
            "Name: bacteria, Length: 101, dtype: int64\n",
            "0.000    1306\n",
            "0.001     453\n",
            "0.008     420\n",
            "0.002     408\n",
            "0.005     383\n",
            "         ... \n",
            "0.860      42\n",
            "0.710      41\n",
            "0.900      34\n",
            "0.810      25\n",
            "0.880      25\n",
            "Name: viruses, Length: 61, dtype: int64\n",
            "8.32     20\n",
            "10.90    19\n",
            "14.66    18\n",
            "4.94     17\n",
            "11.36    16\n",
            "         ..\n",
            "5.34      1\n",
            "8.77      1\n",
            "5.31      1\n",
            "19.03     1\n",
            "0.00      1\n",
            "Name: nitrates, Length: 1803, dtype: int64\n",
            "1.20    89\n",
            "1.27    78\n",
            "1.36    78\n",
            "1.37    74\n",
            "1.95    74\n",
            "        ..\n",
            "2.83     1\n",
            "2.62     1\n",
            "2.92     1\n",
            "2.64     1\n",
            "2.93     1\n",
            "Name: nitrites, Length: 280, dtype: int64\n",
            "0.05     28\n",
            "0.24     27\n",
            "0.18     26\n",
            "0.11     26\n",
            "0.30     25\n",
            "         ..\n",
            "46.51     1\n",
            "19.04     1\n",
            "53.52     1\n",
            "51.04     1\n",
            "8.44      1\n",
            "Name: perchlorate, Length: 2999, dtype: int64\n"
          ]
        }
      ]
    },
    {
      "cell_type": "code",
      "source": [
        "data.to_csv('waterQuality_ajustado.csv', index=False)"
      ],
      "metadata": {
        "id": "yN6NXeCRU66q"
      },
      "execution_count": null,
      "outputs": []
    },
    {
      "cell_type": "markdown",
      "source": [
        "###QUESTÃO 02"
      ],
      "metadata": {
        "id": "fmsfiMNDVV4B"
      }
    },
    {
      "cell_type": "code",
      "source": [
        "from sklearn.model_selection import train_test_split\n",
        "from sklearn.neighbors import KNeighborsClassifier\n",
        "from sklearn.metrics import accuracy_score"
      ],
      "metadata": {
        "id": "niTODeV1Vacn"
      },
      "execution_count": null,
      "outputs": []
    },
    {
      "cell_type": "code",
      "source": [
        "data = pd.read_csv('waterQuality_ajustado.csv')"
      ],
      "metadata": {
        "id": "ZKRX0CmHWOru"
      },
      "execution_count": null,
      "outputs": []
    },
    {
      "cell_type": "code",
      "source": [
        "X = data[['bacteria'\t,'viruses'\t,'nitrates'\t,'nitrites',\t'perchlorate']]\n",
        "y = data['is_safe']"
      ],
      "metadata": {
        "id": "Yos2ntxgWYM5"
      },
      "execution_count": null,
      "outputs": []
    },
    {
      "cell_type": "code",
      "source": [
        "# Dividindo o dataset em treino e teste\n",
        "X_train, X_test, y_train, y_test = train_test_split(X, y, test_size=0.2, random_state=42)\n",
        "\n",
        "# Criando o classificador KNN com parâmetros default\n",
        "knn = KNeighborsClassifier()\n",
        "\n",
        "# Treinando o modelo com os dados de treino\n",
        "knn.fit(X_train, y_train)\n",
        "\n",
        "# Calculando a acurácia do modelo nos dados de teste\n",
        "accuracy = knn.score(X_test, y_test)\n"
      ],
      "metadata": {
        "id": "HjrqwPirWbSZ"
      },
      "execution_count": null,
      "outputs": []
    },
    {
      "cell_type": "code",
      "source": [
        "# Mostrando a acurácia\n",
        "print('Acurácia do modelo: {:.2f}'.format(accuracy))"
      ],
      "metadata": {
        "colab": {
          "base_uri": "https://localhost:8080/"
        },
        "id": "_QnfbSBCW30E",
        "outputId": "0cb4c70c-c7c2-4732-a324-362f6d5fe447"
      },
      "execution_count": null,
      "outputs": [
        {
          "output_type": "stream",
          "name": "stdout",
          "text": [
            "Acurácia do modelo: 0.86\n"
          ]
        }
      ]
    },
    {
      "cell_type": "markdown",
      "source": [
        "###QUESTÃO 03"
      ],
      "metadata": {
        "id": "Kyt8E7Ilvylj"
      }
    },
    {
      "cell_type": "code",
      "source": [
        "import numpy as np\n",
        "# Carregando o dataset\n",
        "data = pd.read_csv('waterQuality_ajustado.csv')\n",
        "\n",
        "# Separando os dados em features e target\n",
        "X = data[['bacteria'\t,'viruses'\t,'nitrates'\t,'nitrites',\t'perchlorate']]\n",
        "y = data['is_safe']\n",
        "\n",
        "# Dividindo o dataset em treino e teste\n",
        "X_train, X_test, y_train, y_test = train_test_split(X, y, test_size=0.2, random_state=42)\n",
        "\n",
        "# Normalizando os dados com normalização logarítmica\n",
        "X_train_log = X_train.apply(lambda x: np.log(x + 1))\n",
        "X_test_log = X_test.apply(lambda x: np.log(x + 1))\n",
        "\n",
        "# Criando o classificador KNN com parâmetros default e dados normalizados com normalização logarítmica\n",
        "knn_log = KNeighborsClassifier()\n",
        "knn_log.fit(X_train_log, y_train)\n",
        "accuracy_log = knn_log.score(X_test_log, y_test)\n",
        "\n",
        "# Normalizando os dados com normalização de média zero e variância unitária\n",
        "scaler = StandardScaler()\n",
        "X_train_scaled = scaler.fit_transform(X_train)\n",
        "X_test_scaled = scaler.transform(X_test)\n",
        "\n",
        "# Criando o classificador KNN com parâmetros default e dados normalizados com normalização de média zero e variância unitária\n",
        "knn_scaled = KNeighborsClassifier()\n",
        "knn_scaled.fit(X_train_scaled, y_train)\n",
        "accuracy_scaled = knn_scaled.score(X_test_scaled, y_test)\n",
        "\n",
        "# Mostrando as acurácias lado a lado\n",
        "print('Acurácia com normalização logarítmica: {:.2f}'.format(accuracy_log))\n",
        "print('Acurácia com normalização de média zero e variância unitária: {:.2f}'.format(accuracy_scaled))\n",
        "print('Não houve variação entre a acurácia do KNN sem normalização em relação ao algortimo após o treinamento')\n"
      ],
      "metadata": {
        "colab": {
          "base_uri": "https://localhost:8080/"
        },
        "id": "PwhdMGtkv1zt",
        "outputId": "93a09ba2-7819-4dda-8b1c-662dd71d2c8e"
      },
      "execution_count": 51,
      "outputs": [
        {
          "output_type": "stream",
          "name": "stdout",
          "text": [
            "Acurácia com normalização logarítmica: 0.86\n",
            "Acurácia com normalização de média zero e variância unitária: 0.86\n",
            "Não houve variação entre a acurácia do KNN sem normalização em relação ao algortimo após o treinamento\n"
          ]
        }
      ]
    },
    {
      "cell_type": "code",
      "source": [
        "import pandas as pd\n",
        "import numpy as np\n",
        "import matplotlib.pyplot as plt\n",
        "from sklearn.preprocessing import StandardScaler\n",
        "from sklearn.model_selection import train_test_split, GridSearchCV\n",
        "from sklearn.neighbors import KNeighborsClassifier\n",
        " #Normalizando os dados com normalização de média zero e variância unitária\n",
        "scaler = StandardScaler()\n",
        "X_scaled = scaler.fit_transform(X)\n",
        "# Dividindo o dataset em treino e teste\n",
        "X_train, X_test, y_train, y_test = train_test_split(X_scaled, y, test_size=0.2, random_state=42)\n",
        "\n",
        "# Definindo os valores de k a serem testados\n",
        "k_range = list(range(1, 51))\n",
        "\n",
        "# Definindo os valores de outros parâmetros do KNN a serem testados\n",
        "param_grid = dict(n_neighbors=k_range, weights=['uniform', 'distance'], metric=['euclidean', 'manhattan'])\n",
        "\n",
        "# Criando o objeto GridSearchCV\n",
        "grid = GridSearchCV(KNeighborsClassifier(), param_grid, cv=10, scoring='accuracy')\n",
        "# Treinando o modelo com os dados de treino\n",
        "grid.fit(X_train, y_train)\n",
        "\n",
        "# Imprimindo o melhor valor de k encontrado\n",
        "print('valor de k: {}'.format(grid.best_params_['n_neighbors']))\n",
        "\n",
        "\n",
        "\n",
        "\n",
        "\n"
      ],
      "metadata": {
        "colab": {
          "base_uri": "https://localhost:8080/"
        },
        "id": "4idxENx9zz2X",
        "outputId": "6932fdbf-dbe6-4f40-d4e3-2a93f682aff1"
      },
      "execution_count": 59,
      "outputs": [
        {
          "output_type": "stream",
          "name": "stderr",
          "text": [
            "/usr/local/lib/python3.9/dist-packages/sklearn/model_selection/_split.py:700: UserWarning: The least populated class in y has only 3 members, which is less than n_splits=10.\n",
            "  warnings.warn(\n"
          ]
        },
        {
          "output_type": "stream",
          "name": "stdout",
          "text": [
            "Melhor valor de k: 50\n"
          ]
        }
      ]
    },
    {
      "cell_type": "code",
      "source": [
        "\n",
        "plt.plot(k_range, grid.cv_results_['mean_test_score'])\n",
        "plt.xlabel('Value of K for KNN')\n",
        "plt.ylabel('Cross-validated Accuracy')\n",
        "plt.show()\n"
      ],
      "metadata": {
        "colab": {
          "base_uri": "https://localhost:8080/",
          "height": 781
        },
        "id": "0l9FylUrYkUX",
        "outputId": "568e9b1f-787a-43f9-8217-c46e206e1245"
      },
      "execution_count": 84,
      "outputs": [
        {
          "output_type": "error",
          "ename": "ValueError",
          "evalue": "ignored",
          "traceback": [
            "\u001b[0;31m---------------------------------------------------------------------------\u001b[0m",
            "\u001b[0;31mValueError\u001b[0m                                Traceback (most recent call last)",
            "\u001b[0;32m<ipython-input-84-b1235ec1a46d>\u001b[0m in \u001b[0;36m<cell line: 1>\u001b[0;34m()\u001b[0m\n\u001b[0;32m----> 1\u001b[0;31m \u001b[0mplt\u001b[0m\u001b[0;34m.\u001b[0m\u001b[0mplot\u001b[0m\u001b[0;34m(\u001b[0m\u001b[0mk_range\u001b[0m\u001b[0;34m,\u001b[0m \u001b[0mgrid\u001b[0m\u001b[0;34m.\u001b[0m\u001b[0mcv_results_\u001b[0m\u001b[0;34m[\u001b[0m\u001b[0;34m'mean_test_score'\u001b[0m\u001b[0;34m]\u001b[0m\u001b[0;34m)\u001b[0m\u001b[0;34m\u001b[0m\u001b[0;34m\u001b[0m\u001b[0m\n\u001b[0m\u001b[1;32m      2\u001b[0m \u001b[0mplt\u001b[0m\u001b[0;34m.\u001b[0m\u001b[0mxlabel\u001b[0m\u001b[0;34m(\u001b[0m\u001b[0;34m'Value of K for KNN'\u001b[0m\u001b[0;34m)\u001b[0m\u001b[0;34m\u001b[0m\u001b[0;34m\u001b[0m\u001b[0m\n\u001b[1;32m      3\u001b[0m \u001b[0mplt\u001b[0m\u001b[0;34m.\u001b[0m\u001b[0mylabel\u001b[0m\u001b[0;34m(\u001b[0m\u001b[0;34m'Cross-validated Accuracy'\u001b[0m\u001b[0;34m)\u001b[0m\u001b[0;34m\u001b[0m\u001b[0;34m\u001b[0m\u001b[0m\n\u001b[1;32m      4\u001b[0m \u001b[0mplt\u001b[0m\u001b[0;34m.\u001b[0m\u001b[0mshow\u001b[0m\u001b[0;34m(\u001b[0m\u001b[0;34m)\u001b[0m\u001b[0;34m\u001b[0m\u001b[0;34m\u001b[0m\u001b[0m\n",
            "\u001b[0;32m/usr/local/lib/python3.9/dist-packages/matplotlib/pyplot.py\u001b[0m in \u001b[0;36mplot\u001b[0;34m(scalex, scaley, data, *args, **kwargs)\u001b[0m\n\u001b[1;32m   2810\u001b[0m \u001b[0;34m@\u001b[0m\u001b[0m_copy_docstring_and_deprecators\u001b[0m\u001b[0;34m(\u001b[0m\u001b[0mAxes\u001b[0m\u001b[0;34m.\u001b[0m\u001b[0mplot\u001b[0m\u001b[0;34m)\u001b[0m\u001b[0;34m\u001b[0m\u001b[0;34m\u001b[0m\u001b[0m\n\u001b[1;32m   2811\u001b[0m \u001b[0;32mdef\u001b[0m \u001b[0mplot\u001b[0m\u001b[0;34m(\u001b[0m\u001b[0;34m*\u001b[0m\u001b[0margs\u001b[0m\u001b[0;34m,\u001b[0m \u001b[0mscalex\u001b[0m\u001b[0;34m=\u001b[0m\u001b[0;32mTrue\u001b[0m\u001b[0;34m,\u001b[0m \u001b[0mscaley\u001b[0m\u001b[0;34m=\u001b[0m\u001b[0;32mTrue\u001b[0m\u001b[0;34m,\u001b[0m \u001b[0mdata\u001b[0m\u001b[0;34m=\u001b[0m\u001b[0;32mNone\u001b[0m\u001b[0;34m,\u001b[0m \u001b[0;34m**\u001b[0m\u001b[0mkwargs\u001b[0m\u001b[0;34m)\u001b[0m\u001b[0;34m:\u001b[0m\u001b[0;34m\u001b[0m\u001b[0;34m\u001b[0m\u001b[0m\n\u001b[0;32m-> 2812\u001b[0;31m     return gca().plot(\n\u001b[0m\u001b[1;32m   2813\u001b[0m         \u001b[0;34m*\u001b[0m\u001b[0margs\u001b[0m\u001b[0;34m,\u001b[0m \u001b[0mscalex\u001b[0m\u001b[0;34m=\u001b[0m\u001b[0mscalex\u001b[0m\u001b[0;34m,\u001b[0m \u001b[0mscaley\u001b[0m\u001b[0;34m=\u001b[0m\u001b[0mscaley\u001b[0m\u001b[0;34m,\u001b[0m\u001b[0;34m\u001b[0m\u001b[0;34m\u001b[0m\u001b[0m\n\u001b[1;32m   2814\u001b[0m         **({\"data\": data} if data is not None else {}), **kwargs)\n",
            "\u001b[0;32m/usr/local/lib/python3.9/dist-packages/matplotlib/axes/_axes.py\u001b[0m in \u001b[0;36mplot\u001b[0;34m(self, scalex, scaley, data, *args, **kwargs)\u001b[0m\n\u001b[1;32m   1686\u001b[0m         \"\"\"\n\u001b[1;32m   1687\u001b[0m         \u001b[0mkwargs\u001b[0m \u001b[0;34m=\u001b[0m \u001b[0mcbook\u001b[0m\u001b[0;34m.\u001b[0m\u001b[0mnormalize_kwargs\u001b[0m\u001b[0;34m(\u001b[0m\u001b[0mkwargs\u001b[0m\u001b[0;34m,\u001b[0m \u001b[0mmlines\u001b[0m\u001b[0;34m.\u001b[0m\u001b[0mLine2D\u001b[0m\u001b[0;34m)\u001b[0m\u001b[0;34m\u001b[0m\u001b[0;34m\u001b[0m\u001b[0m\n\u001b[0;32m-> 1688\u001b[0;31m         \u001b[0mlines\u001b[0m \u001b[0;34m=\u001b[0m \u001b[0;34m[\u001b[0m\u001b[0;34m*\u001b[0m\u001b[0mself\u001b[0m\u001b[0;34m.\u001b[0m\u001b[0m_get_lines\u001b[0m\u001b[0;34m(\u001b[0m\u001b[0;34m*\u001b[0m\u001b[0margs\u001b[0m\u001b[0;34m,\u001b[0m \u001b[0mdata\u001b[0m\u001b[0;34m=\u001b[0m\u001b[0mdata\u001b[0m\u001b[0;34m,\u001b[0m \u001b[0;34m**\u001b[0m\u001b[0mkwargs\u001b[0m\u001b[0;34m)\u001b[0m\u001b[0;34m]\u001b[0m\u001b[0;34m\u001b[0m\u001b[0;34m\u001b[0m\u001b[0m\n\u001b[0m\u001b[1;32m   1689\u001b[0m         \u001b[0;32mfor\u001b[0m \u001b[0mline\u001b[0m \u001b[0;32min\u001b[0m \u001b[0mlines\u001b[0m\u001b[0;34m:\u001b[0m\u001b[0;34m\u001b[0m\u001b[0;34m\u001b[0m\u001b[0m\n\u001b[1;32m   1690\u001b[0m             \u001b[0mself\u001b[0m\u001b[0;34m.\u001b[0m\u001b[0madd_line\u001b[0m\u001b[0;34m(\u001b[0m\u001b[0mline\u001b[0m\u001b[0;34m)\u001b[0m\u001b[0;34m\u001b[0m\u001b[0;34m\u001b[0m\u001b[0m\n",
            "\u001b[0;32m/usr/local/lib/python3.9/dist-packages/matplotlib/axes/_base.py\u001b[0m in \u001b[0;36m__call__\u001b[0;34m(self, data, *args, **kwargs)\u001b[0m\n\u001b[1;32m    309\u001b[0m                 \u001b[0mthis\u001b[0m \u001b[0;34m+=\u001b[0m \u001b[0margs\u001b[0m\u001b[0;34m[\u001b[0m\u001b[0;36m0\u001b[0m\u001b[0;34m]\u001b[0m\u001b[0;34m,\u001b[0m\u001b[0;34m\u001b[0m\u001b[0;34m\u001b[0m\u001b[0m\n\u001b[1;32m    310\u001b[0m                 \u001b[0margs\u001b[0m \u001b[0;34m=\u001b[0m \u001b[0margs\u001b[0m\u001b[0;34m[\u001b[0m\u001b[0;36m1\u001b[0m\u001b[0;34m:\u001b[0m\u001b[0;34m]\u001b[0m\u001b[0;34m\u001b[0m\u001b[0;34m\u001b[0m\u001b[0m\n\u001b[0;32m--> 311\u001b[0;31m             yield from self._plot_args(\n\u001b[0m\u001b[1;32m    312\u001b[0m                 this, kwargs, ambiguous_fmt_datakey=ambiguous_fmt_datakey)\n\u001b[1;32m    313\u001b[0m \u001b[0;34m\u001b[0m\u001b[0m\n",
            "\u001b[0;32m/usr/local/lib/python3.9/dist-packages/matplotlib/axes/_base.py\u001b[0m in \u001b[0;36m_plot_args\u001b[0;34m(self, tup, kwargs, return_kwargs, ambiguous_fmt_datakey)\u001b[0m\n\u001b[1;32m    502\u001b[0m \u001b[0;34m\u001b[0m\u001b[0m\n\u001b[1;32m    503\u001b[0m         \u001b[0;32mif\u001b[0m \u001b[0mx\u001b[0m\u001b[0;34m.\u001b[0m\u001b[0mshape\u001b[0m\u001b[0;34m[\u001b[0m\u001b[0;36m0\u001b[0m\u001b[0;34m]\u001b[0m \u001b[0;34m!=\u001b[0m \u001b[0my\u001b[0m\u001b[0;34m.\u001b[0m\u001b[0mshape\u001b[0m\u001b[0;34m[\u001b[0m\u001b[0;36m0\u001b[0m\u001b[0;34m]\u001b[0m\u001b[0;34m:\u001b[0m\u001b[0;34m\u001b[0m\u001b[0;34m\u001b[0m\u001b[0m\n\u001b[0;32m--> 504\u001b[0;31m             raise ValueError(f\"x and y must have same first dimension, but \"\n\u001b[0m\u001b[1;32m    505\u001b[0m                              f\"have shapes {x.shape} and {y.shape}\")\n\u001b[1;32m    506\u001b[0m         \u001b[0;32mif\u001b[0m \u001b[0mx\u001b[0m\u001b[0;34m.\u001b[0m\u001b[0mndim\u001b[0m \u001b[0;34m>\u001b[0m \u001b[0;36m2\u001b[0m \u001b[0;32mor\u001b[0m \u001b[0my\u001b[0m\u001b[0;34m.\u001b[0m\u001b[0mndim\u001b[0m \u001b[0;34m>\u001b[0m \u001b[0;36m2\u001b[0m\u001b[0;34m:\u001b[0m\u001b[0;34m\u001b[0m\u001b[0;34m\u001b[0m\u001b[0m\n",
            "\u001b[0;31mValueError\u001b[0m: x and y must have same first dimension, but have shapes (1,) and (200,)"
          ]
        },
        {
          "output_type": "display_data",
          "data": {
            "text/plain": [
              "<Figure size 640x480 with 1 Axes>"
            ],
            "image/png": "[encoded data removed]"
          },
          "metadata": {}
        }
      ]
    }
  ]
}